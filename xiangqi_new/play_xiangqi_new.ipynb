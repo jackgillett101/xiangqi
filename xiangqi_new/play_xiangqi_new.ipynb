{
 "cells": [
  {
   "cell_type": "code",
   "execution_count": 3,
   "metadata": {
    "collapsed": false
   },
   "outputs": [
    {
     "name": "stdout",
     "output_type": "stream",
     "text": [
      "车－马－象－士－将－士－象－马－车　９\n",
      "＋－＋－＋－＋－＋－＋－＋－＋－＋　８\n",
      "＋－砲－＋－＋－＋－＋－＋－砲－＋　７\n",
      "卒－＋－卒－＋－卒－＋－卒－＋－卒　６\n",
      "＋－＋－＋－＋－＋－＋－＋－＋－＋　５\n",
      "｜　　　楚河　　　　　漢界　　　｜\n",
      "＋－＋－＋－＋－＋－＋－＋－＋－＋　４\n",
      "\u001b[1;30;41m兵\u001b[0m－＋－\u001b[1;30;41m兵\u001b[0m－＋－\u001b[1;30;41m兵\u001b[0m－＋－\u001b[1;30;41m兵\u001b[0m－＋－\u001b[1;30;41m兵\u001b[0m　３\n",
      "＋－\u001b[1;30;41m炮\u001b[0m－＋－＋－＋－＋－＋－\u001b[1;30;41m炮\u001b[0m－＋　２\n",
      "＋－＋－＋－＋－＋－＋－＋－＋－＋　１\n",
      "\u001b[1;30;41m车\u001b[0m－\u001b[1;30;41m马\u001b[0m－\u001b[1;30;41m相\u001b[0m－\u001b[1;30;41m士\u001b[0m－\u001b[1;30;41m帅\u001b[0m－\u001b[1;30;41m士\u001b[0m－\u001b[1;30;41m相\u001b[0m－\u001b[1;30;41m马\u001b[0m－\u001b[1;30;41m车\u001b[0m　０\n",
      "Ａ　Ｂ　Ｃ　Ｄ　Ｅ　Ｆ　Ｇ　Ｈ　Ｉ\n"
     ]
    }
   ],
   "source": [
    "from game.game import Game\n",
    "from board.board import Board\n",
    "from artificial_players.random_chancer import RandomChancer\n",
    "from artificial_players.fixed_depth_minimax import FixedDepthMinimax\n",
    "\n",
    "artificial_player_1 = RandomChancer('red')\n",
    "artificial_player_2 = RandomChancer('black')\n",
    "artificial_player_3 = FixedDepthMinimax('red', depth=4)\n",
    "artificial_player_4 = FixedDepthMinimax('black')\n",
    "\n",
    "game = Game()"
   ]
  },
  {
   "cell_type": "code",
   "execution_count": null,
   "metadata": {
    "collapsed": false,
    "scrolled": true
   },
   "outputs": [
    {
     "name": "stdout",
     "output_type": "stream",
     "text": [
      "Minimax has evaluated 1000 positions so far\n",
      "Minimax has evaluated 2000 positions so far\n",
      "Minimax has evaluated 3000 positions so far\n",
      "Minimax has evaluated 4000 positions so far\n",
      "Minimax has evaluated 5000 positions so far\n",
      "Minimax has evaluated 6000 positions so far\n",
      "Minimax has evaluated 7000 positions so far\n",
      "Minimax has evaluated 8000 positions so far\n",
      "Minimax has evaluated 9000 positions so far\n",
      "Minimax has evaluated 10000 positions so far\n",
      "Minimax has evaluated 11000 positions so far\n",
      "Minimax has evaluated 12000 positions so far\n",
      "Minimax has evaluated 13000 positions so far\n",
      "Minimax has evaluated 14000 positions so far\n",
      "Minimax has evaluated 15000 positions so far\n",
      "Minimax has evaluated 16000 positions so far\n",
      "Minimax has evaluated 17000 positions so far\n",
      "Minimax has evaluated 18000 positions so far\n",
      "Minimax has evaluated 19000 positions so far\n",
      "Minimax has evaluated 20000 positions so far\n",
      "Minimax has evaluated 21000 positions so far\n",
      "Minimax has evaluated 22000 positions so far\n",
      "Minimax has evaluated 23000 positions so far\n",
      "Minimax has evaluated 24000 positions so far\n",
      "Minimax has evaluated 25000 positions so far\n",
      "Minimax has evaluated 26000 positions so far\n",
      "Minimax has evaluated 27000 positions so far\n",
      "Minimax has evaluated 28000 positions so far\n",
      "Minimax has evaluated 29000 positions so far\n",
      "Minimax has evaluated 30000 positions so far\n",
      "Minimax has evaluated 31000 positions so far\n",
      "Minimax has evaluated 32000 positions so far\n",
      "Minimax has evaluated 33000 positions so far\n",
      "Minimax has evaluated 34000 positions so far\n",
      "Minimax has evaluated 35000 positions so far\n",
      "Minimax has evaluated 36000 positions so far\n",
      "Minimax has evaluated 37000 positions so far\n",
      "Minimax has evaluated 38000 positions so far\n",
      "Minimax has evaluated 39000 positions so far\n",
      "Minimax has evaluated 40000 positions so far\n",
      "Minimax has evaluated 41000 positions so far\n",
      "Minimax has evaluated 42000 positions so far\n",
      "Minimax has evaluated 43000 positions so far\n",
      "Minimax has evaluated 44000 positions so far\n",
      "Minimax has evaluated 45000 positions so far\n",
      "Minimax has evaluated 46000 positions so far\n",
      "Minimax has evaluated 47000 positions so far\n",
      "Minimax has evaluated 48000 positions so far\n",
      "Minimax has evaluated 49000 positions so far\n",
      "Minimax has evaluated 50000 positions so far\n",
      "Minimax has evaluated 51000 positions so far\n",
      "Minimax has evaluated 52000 positions so far\n",
      "Minimax has evaluated 53000 positions so far\n",
      "Minimax has evaluated 54000 positions so far\n",
      "Minimax has evaluated 55000 positions so far\n",
      "Minimax has evaluated 56000 positions so far\n",
      "Minimax has evaluated 57000 positions so far\n",
      "Minimax has evaluated 58000 positions so far\n",
      "Minimax has evaluated 59000 positions so far\n",
      "Minimax has evaluated 60000 positions so far\n",
      "Minimax has evaluated 61000 positions so far\n",
      "Minimax has evaluated 62000 positions so far\n",
      "Minimax has evaluated 63000 positions so far\n",
      "Minimax has evaluated 64000 positions so far\n",
      "Minimax has evaluated 65000 positions so far\n"
     ]
    }
   ],
   "source": [
    "game.add_artificial_player(artificial_player_3)\n",
    "game.add_artificial_player(artificial_player_4)"
   ]
  },
  {
   "cell_type": "code",
   "execution_count": null,
   "metadata": {
    "collapsed": true
   },
   "outputs": [],
   "source": [
    "game_continues, losing_team, whose_turn, board, piece_manager = game.move('H0-E0')"
   ]
  },
  {
   "cell_type": "code",
   "execution_count": null,
   "metadata": {
    "collapsed": false
   },
   "outputs": [],
   "source": [
    "game.board.corners[0][0].current_occupant"
   ]
  },
  {
   "cell_type": "code",
   "execution_count": null,
   "metadata": {
    "collapsed": true
   },
   "outputs": [],
   "source": []
  }
 ],
 "metadata": {
  "kernelspec": {
   "display_name": "Python 3",
   "language": "python",
   "name": "python3"
  },
  "language_info": {
   "codemirror_mode": {
    "name": "ipython",
    "version": 3
   },
   "file_extension": ".py",
   "mimetype": "text/x-python",
   "name": "python",
   "nbconvert_exporter": "python",
   "pygments_lexer": "ipython3",
   "version": "3.6.6"
  }
 },
 "nbformat": 4,
 "nbformat_minor": 0
}
